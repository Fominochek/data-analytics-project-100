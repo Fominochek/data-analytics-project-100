{
 "cells": [
  {
   "cell_type": "markdown",
   "metadata": {
    "collapsed": true,
    "pycharm": {
     "name": "#%%\n"
    }
   },
   "source": [
    "### Дашборд конверсий\n"
   ]
  },
  {
   "cell_type": "markdown",
   "metadata": {},
   "source": [
    "#### Импорты библиотек"
   ]
  },
  {
   "cell_type": "code",
   "execution_count": 19,
   "metadata": {
    "collapsed": false,
    "pycharm": {
     "name": "#%%\n"
    }
   },
   "outputs": [],
   "source": [
    "import requests\n",
    "import pandas as pd"
   ]
  },
  {
   "cell_type": "markdown",
   "metadata": {},
   "source": [
    "#### Запросы к API"
   ]
  },
  {
   "cell_type": "code",
   "execution_count": null,
   "metadata": {},
   "outputs": [],
   "source": [
    "class Api:\n",
    "    \"\"\"Объект взаимодействия с API.\"\"\"\n",
    "\n",
    "    def __init__(self):\n",
    "        \"\"\"Инициализация атрибутов класса.\"\"\"\n",
    "\n",
    "        self.base_url = \"https://data-charts-api.hexlet.app\"\n",
    "        self.registrations_url = self.base_url + \"/registrations\"\n",
    "        self.visits_url = self.base_url + \"/visits\"\n",
    "    \n",
    "    def get_data(self, url, params):\n",
    "        \"\"\"Запрос данных.\"\"\"\n",
    "\n",
    "        try:\n",
    "            response = requests.get(url=url, params=params)\n",
    "            if response.status_code == 200:\n",
    "                return response.json()\n",
    "            return None\n",
    "        except Exception as request_error:\n",
    "            raise Exception(request_error)\n"
   ]
  },
  {
   "cell_type": "markdown",
   "metadata": {},
   "source": [
    "#### Запуск логики"
   ]
  },
  {
   "cell_type": "code",
   "execution_count": 38,
   "metadata": {},
   "outputs": [
    {
     "name": "stdout",
     "output_type": "stream",
     "text": [
      "                                    visit_id platform  \\\n",
      "0       1de9ea66-70d3-4a1f-8735-df5ef7697fb9      web   \n",
      "1       f149f542-e935-4870-9734-6b4501eaf614      web   \n",
      "2       08f0ebd4-950c-4dd9-8e97-b5bdf073eed1      web   \n",
      "3       19322fed-157c-49c6-b16e-2d5cabeb9592      web   \n",
      "4       04762a22-3c9f-40c9-9ac9-6628c4381836      web   \n",
      "...                                      ...      ...   \n",
      "263454  6d2e2f5b-970b-4dfe-8f57-25711a5b2a5d      web   \n",
      "263455  1d91535e-d984-4f76-bbaa-c14c0fd4f2e2      web   \n",
      "263456  f2496721-7126-430d-976e-777a6cdccb4f      web   \n",
      "263457  f2496721-7126-430d-976e-777a6cdccb4f      web   \n",
      "263458  73047125-de44-4d65-8229-7218acff4ddc      web   \n",
      "\n",
      "                                               user_agent             datetime  \n",
      "0       Mozilla/5.0 (Windows NT 10.0; Win64; x64) Appl...  2023-03-01T10:36:22  \n",
      "1       Mozilla/5.0 (Windows NT 10.0; WOW64; Trident/7...  2023-03-01T06:25:00  \n",
      "2       Mozilla/5.0 (Macintosh; Intel Mac OS X 10_11_2...  2023-03-01T10:26:13  \n",
      "3       Mozilla/5.0 (Macintosh; Intel Mac OS X 10_15_7...  2023-03-01T12:33:06  \n",
      "4       Mozilla/5.0 (Windows NT 10.0; Win64; x64) Appl...  2023-03-01T01:38:35  \n",
      "...                                                   ...                  ...  \n",
      "263454  Mozilla/5.0 (Macintosh; Intel Mac OS X 10_15_7...  2023-08-29T10:43:29  \n",
      "263455  Mozilla/5.0 (X11; Ubuntu; Linux x86_64; rv:109...  2023-08-29T19:29:16  \n",
      "263456  Mozilla/5.0 (Windows NT 10.0; Win64; x64) Appl...  2023-08-29T12:51:11  \n",
      "263457  Mozilla/5.0 (Windows NT 10.0; Win64; x64) Appl...  2023-08-29T21:45:08  \n",
      "263458  Mozilla/5.0 (X11; Ubuntu; Linux x86_64; rv:109...  2023-08-30T19:19:04  \n",
      "\n",
      "[263459 rows x 4 columns]\n",
      "                  datetime                               user_id  \\\n",
      "0      2023-03-01T07:40:13  2e0f6bb8-b029-4f45-a786-2b53990d37f1   \n",
      "1      2023-03-01T13:14:00  f007f97c-9d8b-48b5-af08-119bb8f6d9b6   \n",
      "2      2023-03-01T03:05:50  24ff46ae-32b3-4a74-8f27-7cf0b8f32f15   \n",
      "3      2023-03-01T00:04:47  3e9914e1-5d73-4c23-b25d-b59a3aeb2b60   \n",
      "4      2023-03-01T18:31:52  27f875fc-f8ce-4aeb-8722-0ecb283d0760   \n",
      "...                    ...                                   ...   \n",
      "21831  2023-08-31T07:32:08  a94b4a28-f25c-433c-b4ef-85af7d5b0c11   \n",
      "21832  2023-08-31T23:25:50  fc709c6b-528b-40d8-8980-c2c278e5a628   \n",
      "21833  2023-08-31T19:29:18  11e32805-7571-4108-8e50-e211d051bf7e   \n",
      "21834  2023-08-31T19:38:54  bce7b818-768b-434a-b6af-573cd60bff7f   \n",
      "21835  2023-08-31T08:36:05  fe03e08a-8e86-4b5f-9a50-c18a02b0d234   \n",
      "\n",
      "                            email platform registration_type  \n",
      "0               ebyrd@example.org      web            google  \n",
      "1        knightgerald@example.org      web             email  \n",
      "2      cherylthompson@example.com      web             apple  \n",
      "3           halldavid@example.org      web             email  \n",
      "4            denise86@example.net      web            google  \n",
      "...                           ...      ...               ...  \n",
      "21831         ikelley@example.net      ios             apple  \n",
      "21832     brittanycox@example.net      ios             apple  \n",
      "21833           aryan@example.net      ios             apple  \n",
      "21834       emartinez@example.net      ios             email  \n",
      "21835      terriperry@example.net      ios             email  \n",
      "\n",
      "[21836 rows x 5 columns]\n"
     ]
    }
   ],
   "source": [
    "\n",
    "def main():\n",
    "    \"\"\"Запуск логики.\"\"\"\n",
    "\n",
    "    try:\n",
    "        api = Api()\n",
    "        start_date = \"2023-03-01\"\n",
    "        end_date = \"2023-09-01\"\n",
    "        params = {'begin': start_date,\n",
    "                'end': end_date}\n",
    "        visits_data = api.get_data(url=api.visits_url, params=params)\n",
    "        registrations_data = api.get_data(url=api.registrations_url, params=params)\n",
    "        registrations_dataframe = pd.DataFrame()\n",
    "        visits_dataframe = pd.DataFrame()\n",
    "        if registrations_data:\n",
    "            registrations_dataframe = pd.DataFrame(registrations_data)\n",
    "        if visits_data:\n",
    "            visits_dataframe = pd.DataFrame(visits_data)\n",
    "        print(visits_dataframe)\n",
    "        print(registrations_dataframe)\n",
    "    except Exception as main_error:\n",
    "        raise Exception(main_error)\n",
    "\n",
    "if __name__ == '__main__':\n",
    "    main()\n"
   ]
  }
 ],
 "metadata": {
  "kernelspec": {
   "display_name": ".venv",
   "language": "python",
   "name": "python3"
  },
  "language_info": {
   "codemirror_mode": {
    "name": "ipython",
    "version": 3
   },
   "file_extension": ".py",
   "mimetype": "text/x-python",
   "name": "python",
   "nbconvert_exporter": "python",
   "pygments_lexer": "ipython3",
   "version": "3.9.13"
  }
 },
 "nbformat": 4,
 "nbformat_minor": 0
}
